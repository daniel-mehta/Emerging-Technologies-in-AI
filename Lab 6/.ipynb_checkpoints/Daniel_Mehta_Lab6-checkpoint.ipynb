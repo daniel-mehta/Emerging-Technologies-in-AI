{
 "cells": [
  {
   "cell_type": "markdown",
   "id": "ef42c4f8-f0d7-4aa4-8805-bcec1e00dcd9",
   "metadata": {},
   "source": [
    "# Lab 6\n",
    "### Daniel Mehta"
   ]
  },
  {
   "cell_type": "markdown",
   "id": "21c8e1ac-1623-4ec1-9b45-9f6ef2cd0c09",
   "metadata": {},
   "source": [
    "## 1: Setup Pre-trained model to generate a scenery image for a futuristic movie\n",
    "\n",
    "- Follow the tutorial code on running text-to-image with stable diffusion.\n",
    "- Adjust the code use torch.Generator() to produce a reproducible pipeline."
   ]
  },
  {
   "cell_type": "code",
   "execution_count": 7,
   "id": "027ed7bc-e2ab-414d-a167-b609c50f5863",
   "metadata": {},
   "outputs": [
    {
     "name": "stderr",
     "output_type": "stream",
     "text": [
      "2025-06-09 17:40:19.377790: I tensorflow/core/platform/cpu_feature_guard.cc:210] This TensorFlow binary is optimized to use available CPU instructions in performance-critical operations.\n",
      "To enable the following instructions: AVX2 FMA, in other operations, rebuild TensorFlow with the appropriate compiler flags.\n"
     ]
    }
   ],
   "source": [
    "from diffusers import StableDiffusionPipeline\n",
    "import torch"
   ]
  },
  {
   "cell_type": "code",
   "execution_count": null,
   "id": "21fd4ecd-cced-49e1-8220-58133337ae06",
   "metadata": {},
   "outputs": [],
   "source": [
    "model_id = \"runwayml/stable-diffusion-v1-5\" "
   ]
  }
 ],
 "metadata": {
  "kernelspec": {
   "display_name": "Python (moflow)",
   "language": "python",
   "name": "moflow"
  },
  "language_info": {
   "codemirror_mode": {
    "name": "ipython",
    "version": 3
   },
   "file_extension": ".py",
   "mimetype": "text/x-python",
   "name": "python",
   "nbconvert_exporter": "python",
   "pygments_lexer": "ipython3",
   "version": "3.10.16"
  }
 },
 "nbformat": 4,
 "nbformat_minor": 5
}
