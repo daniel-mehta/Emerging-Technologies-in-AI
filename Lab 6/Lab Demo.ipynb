{
 "cells": [
  {
   "cell_type": "code",
   "execution_count": 17,
   "id": "beaac9a8",
   "metadata": {},
   "outputs": [
    {
     "name": "stdout",
     "output_type": "stream",
     "text": [
      "Image generation successful!\n",
      "Response data: {'sdGenerationJob': {'generationId': 'cfef11de-fcfc-4bd0-9079-d294c0e247a5', 'apiCreditCost': 24}}\n"
     ]
    }
   ],
   "source": [
    "import requests  # Library to make HTTP requests (GET, POST, etc.)\n",
    "import json  # Library for working with JSON data\n",
    "from PIL import Image  # Python Imaging Library (Pillow) to handle image processing\n",
    "from io import BytesIO  # To handle in-memory binary streams, useful for image content\n",
    "\n",
    "API_KEY = \"??????????????????????????????????????????????????\"\n",
    "\n",
    "# Endpoint URL for image generation\n",
    "IMAGE_GENERATION_ENDPOINT = \"https://cloud.leonardo.ai/api/rest/v1/generations\"\n",
    "\n",
    "def generate_image():\n",
    "    # Request headers\n",
    "    headers = {\n",
    "        \"accept\": \"application/json\",\n",
    "        \"authorization\": f\"Bearer {API_KEY}\",\n",
    "        \"content-type\": \"application/json\",\n",
    "    }\n",
    "    # Request payload (adjust the values as needed)\n",
    "    payload = {\n",
    "        \"modelId\": \"6b645e3a-d64f-4341-a6d8-7a3690fbf042\",  # ID of the AI model to use\n",
    "        \"contrast\": 3.5,  # Adjusts the image contrast (higher value = higher contrast)\n",
    "        \"prompt\": \"A classroom with only the word AIGC 5504 written on the board\",  # Text describing the image to be generated\n",
    "        \"num_images\": 1,  # Number of images to generate\n",
    "        \"width\": 1472,  # Width of the generated image in pixels\n",
    "        \"height\": 832,  # Height of the generated image in pixels\n",
    "        \"alchemy\": True,  # Boolean flag to enable specific AI features (e.g., style enhancements)\n",
    "        \"styleUUID\": \"111dc692-d470-4eec-b791-3475abac4c46\",  # ID for a specific style to apply to the image\n",
    "        \"enhancePrompt\": False  # Boolean flag to disable automatic prompt enhancement\n",
    "    }\n",
    "    \n",
    "    # Sending the POST request to the API endpoint\n",
    "    response = requests.post(IMAGE_GENERATION_ENDPOINT, headers=headers, json=payload)\n",
    "    \n",
    "    # Handling the API response\n",
    "    if response.status_code == 200:  # Check if the request was successful (HTTP 200 OK)\n",
    "        print(\"Image generation successful!\")  # Print success message\n",
    "        response_data = response.json()  # Parse the JSON response\n",
    "        print(\"Response data:\", response_data)  # Display the parsed JSON response\n",
    "    else:  # If the status code is not 200, handle the error\n",
    "        print(f\"Error: {response.status_code}, {response.text}\")  # Print the error code and details\n",
    "\n",
    "# Call the function to execute the image generation process\n",
    "generate_image()\n"
   ]
  },
  {
   "cell_type": "code",
   "execution_count": null,
   "id": "6e5a238d",
   "metadata": {},
   "outputs": [],
   "source": []
  }
 ],
 "metadata": {
  "kernelspec": {
   "display_name": "Python (moflow)",
   "language": "python",
   "name": "moflow"
  },
  "language_info": {
   "codemirror_mode": {
    "name": "ipython",
    "version": 3
   },
   "file_extension": ".py",
   "mimetype": "text/x-python",
   "name": "python",
   "nbconvert_exporter": "python",
   "pygments_lexer": "ipython3",
   "version": "3.10.16"
  }
 },
 "nbformat": 4,
 "nbformat_minor": 5
}
