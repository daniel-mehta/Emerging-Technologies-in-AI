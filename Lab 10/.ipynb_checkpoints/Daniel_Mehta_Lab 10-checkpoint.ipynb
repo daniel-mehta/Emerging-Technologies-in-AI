{
 "cells": [
  {
   "cell_type": "markdown",
   "id": "49773ae9-87c1-4a4e-9096-982f474075c7",
   "metadata": {},
   "source": [
    "# Lab 10\n",
    "### Daniel Mehta"
   ]
  },
  {
   "cell_type": "code",
   "execution_count": 3,
   "id": "8d493bef-3298-4c91-85ca-5bdd19421e8e",
   "metadata": {},
   "outputs": [],
   "source": [
    "#imports\n",
    "import numpy as np\n",
    "import random\n",
    "from collections import deque\n",
    "import matplotlib.pyplot as plt\n",
    "import seaborn as sns\n",
    "import pandas as pd\n",
    "\n",
    "import torch\n",
    "import torch.nn as nn\n",
    "import torch.nn.functional as F\n",
    "import torch.optim as optim"
   ]
  },
  {
   "cell_type": "markdown",
   "id": "5cafd836-24b4-44a8-815c-b9605149fea4",
   "metadata": {},
   "source": [
    "---\n",
    "\n",
    "## Setting Up the Environment"
   ]
  },
  {
   "cell_type": "markdown",
   "id": "d818a38d-b5e1-4737-b1c0-8dd18141d3b4",
   "metadata": {},
   "source": [
    "### Grid Environment"
   ]
  },
  {
   "cell_type": "code",
   "execution_count": 6,
   "id": "d19147f2-6fd6-4036-a043-b0f7f6324506",
   "metadata": {},
   "outputs": [],
   "source": [
    "# grid parameters\n",
    "grid_size = 5\n",
    "start_pos = (0,0)\n",
    "goal_pos = (4,4)\n",
    "\n",
    "# Initializing the grid\n",
    "grid = np.zeros((grid_size,grid_size), dtype=int)"
   ]
  },
  {
   "cell_type": "code",
   "execution_count": 7,
   "id": "23579a77-8480-4a1c-876e-a5bf8f431ce8",
   "metadata": {},
   "outputs": [],
   "source": [
    "# Marking the start and goal\n",
    "grid[start_pos]=1 # 1 is the Start\n",
    "grid[goal_pos]=2 # 2 is the Goal"
   ]
  },
  {
   "cell_type": "code",
   "execution_count": 8,
   "id": "15eeb658-b954-4de1-8045-cc019e6a3de1",
   "metadata": {},
   "outputs": [],
   "source": [
    "# Randomly placeing 3 obstacles (obstacles are being represented by -1)\n",
    "obstacles = set()\n",
    "while len(obstacles) <3:\n",
    "    pos = (random.randint(0,4), random.randint(0,4))\n",
    "    if pos !=start_pos and pos != goal_pos and pos not in obstacles:\n",
    "        obstacles.add(pos)\n",
    "        grid[pos] = -1  # Obstacle"
   ]
  },
  {
   "cell_type": "code",
   "execution_count": 9,
   "id": "7677e2c8-c827-4b00-ad76-ded021f1e8e8",
   "metadata": {},
   "outputs": [
    {
     "name": "stdout",
     "output_type": "stream",
     "text": [
      "Grid:\n",
      " [[ 1  0  0 -1  0]\n",
      " [-1  0  0  0  0]\n",
      " [ 0  0  0  0  0]\n",
      " [-1  0  0  0  0]\n",
      " [ 0  0  0  0  2]]\n",
      "\n",
      "Legend:\n",
      "  0 = Empty\n",
      "  1 = Start\n",
      "  2 = Goal\n",
      " -1 = Obstacle\n"
     ]
    }
   ],
   "source": [
    "print(\"Grid:\\n\", grid)\n",
    "\n",
    "print(\"\\nLegend:\")\n",
    "print(\"  0 = Empty\")\n",
    "print(\"  1 = Start\")\n",
    "print(\"  2 = Goal\")\n",
    "print(\" -1 = Obstacle\")"
   ]
  },
  {
   "cell_type": "markdown",
   "id": "09a945c2-67e8-4e35-8fa9-e92a033e37e0",
   "metadata": {},
   "source": [
    "### Rewards"
   ]
  },
  {
   "cell_type": "code",
   "execution_count": 11,
   "id": "c629c9c2-2040-455c-a16f-4f6584f106eb",
   "metadata": {},
   "outputs": [],
   "source": [
    "# Creating a reward matrix matching the grid\n",
    "rewards = np.zeros((grid_size, grid_size),dtype=int)"
   ]
  },
  {
   "cell_type": "code",
   "execution_count": 12,
   "id": "800382fb-c99a-4cab-8ffb-ef53efdf0c03",
   "metadata": {},
   "outputs": [],
   "source": [
    "# Assigning the rewards\n",
    "for i in range(grid_size):\n",
    "    for j in range(grid_size):\n",
    "        if (i,j) == goal_pos:\n",
    "            rewards[i,j] =10\n",
    "        elif (i, j) in obstacles:\n",
    "            rewards[i,j] = -10\n",
    "        else:\n",
    "            rewards[i,j] = 0"
   ]
  },
  {
   "cell_type": "code",
   "execution_count": 13,
   "id": "460d7b29-024d-47f1-b487-ce10f307da50",
   "metadata": {},
   "outputs": [
    {
     "name": "stdout",
     "output_type": "stream",
     "text": [
      "Reward Matrix:\n",
      " [[  0   0   0 -10   0]\n",
      " [-10   0   0   0   0]\n",
      " [  0   0   0   0   0]\n",
      " [-10   0   0   0   0]\n",
      " [  0   0   0   0  10]]\n"
     ]
    }
   ],
   "source": [
    "print(\"Reward Matrix:\\n\", rewards)"
   ]
  },
  {
   "cell_type": "markdown",
   "id": "c4ab0942-8cbf-407e-acdf-e7e34632a0e7",
   "metadata": {},
   "source": [
    "### State Representation"
   ]
  },
  {
   "cell_type": "code",
   "execution_count": 15,
   "id": "be799827-4f70-492f-9425-6ca149325150",
   "metadata": {},
   "outputs": [],
   "source": [
    "def state_to_coords(state):\n",
    "    # Normalize grid the coordinates to [0, 1] range for NN input\n",
    "    return [state[0] / (grid_size - 1), state[1] / (grid_size - 1)]"
   ]
  },
  {
   "cell_type": "code",
   "execution_count": 16,
   "id": "437c18e1-62e0-4176-a6bb-0c7c571b1383",
   "metadata": {},
   "outputs": [
    {
     "name": "stdout",
     "output_type": "stream",
     "text": [
      "Normalized coords for (2, 3) : [0.5, 0.75]\n"
     ]
    }
   ],
   "source": [
    "sample_state = (2,3)\n",
    "print(\"Normalized coords for\", sample_state, \":\", state_to_coords(sample_state))"
   ]
  },
  {
   "cell_type": "markdown",
   "id": "0d0a4feb-eb60-4711-ac9c-2a0eab9bced2",
   "metadata": {},
   "source": [
    "---\n",
    "\n",
    "## Implementing Deep Q-Learning\n",
    "### Neural Network Architecture"
   ]
  },
  {
   "cell_type": "code",
   "execution_count": 18,
   "id": "32ef44ee-a403-40db-8602-f6cd25e37cc1",
   "metadata": {},
   "outputs": [],
   "source": [
    "# Deep Q Network\n",
    "class DQN(nn.Module):\n",
    "    def __init__(self):\n",
    "        super(DQN, self).__init__()\n",
    "        self.fc1=nn.Linear(2,64) # Input:(x, y)\n",
    "        self.fc2=nn.Linear(64,64)\n",
    "        self.out=nn.Linear(64,4) # Output: Q vals for 4 actions\n",
    "\n",
    "    def forward(self, state):\n",
    "        x = F.relu(self.fc1(state))\n",
    "        x = F.relu(self.fc2(x))\n",
    "        return self.out(x)"
   ]
  },
  {
   "cell_type": "markdown",
   "id": "de9b1b3e-adf4-4ef4-a067-5d04c524eb5d",
   "metadata": {},
   "source": [
    "### Algorithm Steps"
   ]
  },
  {
   "cell_type": "code",
   "execution_count": 20,
   "id": "3b58b0d9-860f-48a0-8cde-d04162b30c92",
   "metadata": {},
   "outputs": [],
   "source": [
    "# experience replay buffer\n",
    "replay_buffer=deque(maxlen=10000)"
   ]
  },
  {
   "cell_type": "code",
   "execution_count": 21,
   "id": "95dda781-4584-458e-8e40-b02e3b505866",
   "metadata": {},
   "outputs": [],
   "source": [
    "# Hyperparameters\n",
    "epsilon = 1.0 # exploration rate\n",
    "epsilon_min = 0.01\n",
    "epsilon_decay = 0.995\n",
    "gamma = 0.99 # discount factor\n",
    "batch_size = 32\n",
    "learning_rate = 0.001"
   ]
  },
  {
   "cell_type": "code",
   "execution_count": 22,
   "id": "03fda235-89d5-4267-a193-cee84c811039",
   "metadata": {},
   "outputs": [],
   "source": [
    "# action space\n",
    "action_space = [0,1,2,3]  # up, down, left, right"
   ]
  },
  {
   "cell_type": "code",
   "execution_count": 23,
   "id": "abb7f3b2-b50e-4b10-8269-94d27beda7fc",
   "metadata": {},
   "outputs": [],
   "source": [
    "# Epsilon greedy policy\n",
    "def select_action(model, state, epsilon):\n",
    "    if random.random() <epsilon:\n",
    "        return random.choice(action_space) # explore\n",
    "    else:\n",
    "        state_tensor = torch.FloatTensor(state).unsqueeze(0) # shape (1, 2)\n",
    "        with torch.no_grad():\n",
    "            q_values =model(state_tensor)\n",
    "        return torch.argmax(q_values).item() # exploit"
   ]
  },
  {
   "cell_type": "markdown",
   "id": "861c5efb-309c-4efc-bacb-18e1dafe0172",
   "metadata": {},
   "source": [
    "### Steps"
   ]
  },
  {
   "cell_type": "code",
   "execution_count": 25,
   "id": "a3be959e-28a5-45df-9acb-bc724c6c1608",
   "metadata": {},
   "outputs": [],
   "source": [
    "# Initialize model and target model\n",
    "policy_net=DQN()\n",
    "target_net=DQN()\n",
    "target_net.load_state_dict(policy_net.state_dict())\n",
    "target_net.eval()\n",
    "\n",
    "optimizer = optim.Adam(policy_net.parameters(), lr=learning_rate)"
   ]
  },
  {
   "cell_type": "code",
   "execution_count": 26,
   "id": "8303c09f-aa1c-4ace-9241-ceec63570e72",
   "metadata": {},
   "outputs": [],
   "source": [
    "def step(state, action):\n",
    "    x, y = state\n",
    "    next_state = (x, y)\n",
    "\n",
    "    if action == 0 and x > 0:\n",
    "        next_state = (x - 1, y)  # up\n",
    "    elif action == 1 and x < grid_size - 1:\n",
    "        next_state = (x + 1, y)  # down\n",
    "    elif action == 2 and y > 0:\n",
    "        next_state = (x, y - 1)  # left\n",
    "    elif action == 3 and y < grid_size - 1:\n",
    "        next_state = (x, y + 1)  # right\n",
    "\n",
    "    if next_state == goal_pos:\n",
    "        return next_state, 10, True\n",
    "    elif next_state in obstacles:\n",
    "        return next_state, -10, False\n",
    "    else:\n",
    "        return next_state, 0, False"
   ]
  },
  {
   "cell_type": "code",
   "execution_count": 27,
   "id": "7dfae80d-d46d-483b-9e9a-0bc2bd321afd",
   "metadata": {},
   "outputs": [
    {
     "name": "stdout",
     "output_type": "stream",
     "text": [
      "Episode 50, Total Reward: -30, Epsilon: 0.778\n",
      "Episode 100, Total Reward: 10, Epsilon: 0.606\n",
      "Episode 150, Total Reward: 10, Epsilon: 0.471\n",
      "Episode 200, Total Reward: -30, Epsilon: 0.367\n",
      "Episode 250, Total Reward: -30, Epsilon: 0.286\n",
      "Episode 300, Total Reward: 0, Epsilon: 0.222\n",
      "Episode 350, Total Reward: 0, Epsilon: 0.173\n",
      "Episode 400, Total Reward: -20, Epsilon: 0.135\n",
      "Episode 450, Total Reward: 0, Epsilon: 0.105\n",
      "Episode 500, Total Reward: -10, Epsilon: 0.082\n",
      "Episode 550, Total Reward: 0, Epsilon: 0.063\n",
      "Episode 600, Total Reward: 0, Epsilon: 0.049\n",
      "Episode 650, Total Reward: -10, Epsilon: 0.038\n",
      "Episode 700, Total Reward: -10, Epsilon: 0.030\n",
      "Episode 750, Total Reward: 0, Epsilon: 0.023\n",
      "Episode 800, Total Reward: 0, Epsilon: 0.018\n",
      "Episode 850, Total Reward: 0, Epsilon: 0.014\n",
      "Episode 900, Total Reward: -10, Epsilon: 0.011\n",
      "Episode 950, Total Reward: 0, Epsilon: 0.010\n",
      "Episode 1000, Total Reward: -10, Epsilon: 0.010\n",
      "Episode 1050, Total Reward: 0, Epsilon: 0.010\n",
      "Episode 1100, Total Reward: 10, Epsilon: 0.010\n",
      "Episode 1150, Total Reward: 10, Epsilon: 0.010\n",
      "Episode 1200, Total Reward: 10, Epsilon: 0.010\n",
      "Episode 1250, Total Reward: 10, Epsilon: 0.010\n",
      "Episode 1300, Total Reward: 10, Epsilon: 0.010\n",
      "Episode 1350, Total Reward: 10, Epsilon: 0.010\n",
      "Episode 1400, Total Reward: 10, Epsilon: 0.010\n",
      "Episode 1450, Total Reward: 10, Epsilon: 0.010\n",
      "Episode 1500, Total Reward: 10, Epsilon: 0.010\n",
      "Episode 1550, Total Reward: 10, Epsilon: 0.010\n",
      "Episode 1600, Total Reward: 10, Epsilon: 0.010\n",
      "Episode 1650, Total Reward: 10, Epsilon: 0.010\n",
      "Episode 1700, Total Reward: 10, Epsilon: 0.010\n",
      "Episode 1750, Total Reward: 10, Epsilon: 0.010\n",
      "Episode 1800, Total Reward: 0, Epsilon: 0.010\n",
      "Episode 1850, Total Reward: 0, Epsilon: 0.010\n",
      "Episode 1900, Total Reward: 0, Epsilon: 0.010\n",
      "Episode 1950, Total Reward: 0, Epsilon: 0.010\n",
      "Episode 2000, Total Reward: 10, Epsilon: 0.010\n"
     ]
    }
   ],
   "source": [
    "# Training loop\n",
    "\n",
    "episode_rewards = []\n",
    "num_episodes = 2000\n",
    "replay_buffer.clear()\n",
    "\n",
    "for episode in range(num_episodes):\n",
    "    state = start_pos\n",
    "    total_reward = 0\n",
    "    done = False\n",
    "    steps = 0\n",
    "    max_steps = 100  # to avoid infinite loops\n",
    "\n",
    "    while not done and steps < max_steps:\n",
    "        # normalize current state\n",
    "        state_norm = state_to_coords(state)\n",
    "\n",
    "        # epsilon-greedy action selection\n",
    "        action = int(select_action(policy_net, state_norm, epsilon))\n",
    "\n",
    "        # take step in env\n",
    "        next_state, reward, done = step(state, action)\n",
    "        next_state_norm = state_to_coords(next_state)\n",
    "\n",
    "        # store transition\n",
    "        replay_buffer.append((state_norm, action, reward, next_state_norm, done))\n",
    "\n",
    "        # update stats\n",
    "        total_reward += reward\n",
    "        steps += 1\n",
    "\n",
    "        # train only if enough samples\n",
    "        if len(replay_buffer) < batch_size:\n",
    "            state = next_state\n",
    "            continue\n",
    "\n",
    "        # sample batch\n",
    "        batch = random.sample(replay_buffer, batch_size)\n",
    "        states, actions, rewards_, next_states, dones = zip(*batch)\n",
    "\n",
    "        # convert to tensors\n",
    "        states = torch.FloatTensor(np.array(states))\n",
    "        actions = torch.LongTensor(actions).unsqueeze(1)\n",
    "        rewards_ = torch.FloatTensor(rewards_).unsqueeze(1)\n",
    "        next_states = torch.FloatTensor(np.array(next_states))\n",
    "        dones = torch.FloatTensor(dones).unsqueeze(1)\n",
    "\n",
    "        # current Q-values\n",
    "        q_values = policy_net(states).gather(1, actions)\n",
    "\n",
    "        # max Q-values for next state (from target net)\n",
    "        with torch.no_grad():\n",
    "            max_next_q_values = target_net(next_states).max(1)[0].unsqueeze(1)\n",
    "\n",
    "        # bellman target\n",
    "        targets = rewards_ + gamma * max_next_q_values * (1 - dones)\n",
    "\n",
    "        # loss + backprop\n",
    "        loss = F.mse_loss(q_values, targets)\n",
    "        optimizer.zero_grad()\n",
    "        loss.backward()\n",
    "        optimizer.step()\n",
    "\n",
    "        # move to next state\n",
    "        state = next_state\n",
    "\n",
    "    # save reward\n",
    "    episode_rewards.append(total_reward)\n",
    "\n",
    "    # decay epsilon\n",
    "    if epsilon > epsilon_min:\n",
    "        epsilon *= epsilon_decay\n",
    "\n",
    "    # update target net\n",
    "    if (episode + 1) % 10 == 0:\n",
    "        target_net.load_state_dict(policy_net.state_dict())\n",
    "\n",
    "    # print progress\n",
    "    if (episode + 1) % 50 == 0:\n",
    "        print(f\"Episode {episode + 1}, Total Reward: {total_reward}, Epsilon: {epsilon:.3f}\")\n"
   ]
  },
  {
   "cell_type": "code",
   "execution_count": 28,
   "id": "679d92a5-0dec-4fad-9120-88723b1e9160",
   "metadata": {},
   "outputs": [],
   "source": [
    "def get_greedy_path(model, start):\n",
    "    path = [start]\n",
    "    state = start\n",
    "    visited = set()\n",
    "\n",
    "    while state != goal_pos:\n",
    "        visited.add(state)\n",
    "        state_tensor = torch.FloatTensor(state_to_coords(state)).unsqueeze(0)\n",
    "        with torch.no_grad():\n",
    "            q_values = model(state_tensor)\n",
    "        action = torch.argmax(q_values).item()\n",
    "\n",
    "        next_state, _, _ =step(state,action)\n",
    "\n",
    "        if next_state in visited or next_state in obstacles:\n",
    "            break\n",
    "\n",
    "        path.append(next_state)\n",
    "        state = next_state\n",
    "\n",
    "    return path\n",
    "\n",
    "# generate path after training\n",
    "path = get_greedy_path(policy_net,start_pos)"
   ]
  },
  {
   "cell_type": "code",
   "execution_count": 29,
   "id": "b7e335c0-7ee0-4eff-b8a1-8d78ade2bf96",
   "metadata": {},
   "outputs": [
    {
     "name": "stdout",
     "output_type": "stream",
     "text": [
      "Total episodes trained: 2000\n",
      "Final epsilon: 0.010\n",
      "Path length from S to G: 9\n"
     ]
    }
   ],
   "source": [
    "print(f\"Total episodes trained: {num_episodes}\")\n",
    "print(f\"Final epsilon: {epsilon:.3f}\")\n",
    "print(f\"Path length from S to G: {len(path)}\")"
   ]
  },
  {
   "cell_type": "markdown",
   "id": "cdb3655e-e251-40f0-bcf2-410047a9aec0",
   "metadata": {},
   "source": [
    "---\n",
    "## Visualizing Results\n",
    "### Performance Metrics"
   ]
  },
  {
   "cell_type": "code",
   "execution_count": 31,
   "id": "14415d1c-1b2a-4e71-a0ed-eff9765f515d",
   "metadata": {},
   "outputs": [
    {
     "data": {
      "image/png": "[encoded data removed]",
      "text/plain": [
       "<Figure size 640x480 with 1 Axes>"
      ]
     },
     "metadata": {},
     "output_type": "display_data"
    }
   ],
   "source": [
    "# Episode Rewards Over Time\n",
    "smoothed = pd.Series(episode_rewards).rolling(window=50).mean()\n",
    "\n",
    "plt.plot(episode_rewards, alpha=0.3, label=\"Raw\")\n",
    "plt.plot(smoothed, color='blue', label=\"Rolling Avg (window=50)\")\n",
    "plt.axvline(x=1400, color='green', linestyle='--', label='First success')\n",
    "plt.xlabel(\"Episode\")\n",
    "plt.ylabel(\"Total Reward\")\n",
    "plt.title(\"Episode Rewards Over Time\")\n",
    "plt.grid(True)\n",
    "plt.legend()\n",
    "plt.show()"
   ]
  },
  {
   "cell_type": "code",
   "execution_count": 32,
   "id": "f06455fa-fba5-4093-8090-f65494cdcb71",
   "metadata": {},
   "outputs": [
    {
     "name": "stdout",
     "output_type": "stream",
     "text": [
      "S * . X .\n",
      "X * . . .\n",
      ". * . . .\n",
      "X * . . .\n",
      ". * * * G\n"
     ]
    }
   ],
   "source": [
    "def print_path_grid(grid, path, start, goal, obstacles):\n",
    "    display = [['.' for _ in range(grid_size)] for _ in range(grid_size)]\n",
    "    \n",
    "    for (i,j) in path:\n",
    "        display[i][j] = '*'\n",
    "\n",
    "    for (i,j) in obstacles:\n",
    "        display[i][j] = 'X'\n",
    "\n",
    "    sx, sy = start\n",
    "    gx, gy =goal\n",
    "    display[sx][sy]='S'\n",
    "    display[gx][gy]='G'\n",
    "\n",
    "    for row in display:\n",
    "        print(' '.join(row))\n",
    "\n",
    "# Show the path from start to goal\n",
    "print_path_grid(grid, path, start_pos, goal_pos, obstacles)\n"
   ]
  },
  {
   "cell_type": "markdown",
   "id": "272e3ebe-5317-4165-82dd-8dd8d31af0dc",
   "metadata": {},
   "source": [
    "### Q-Value Approximation"
   ]
  },
  {
   "cell_type": "code",
   "execution_count": 34,
   "id": "9a04ff55-5687-4185-aec9-ff1df266248e",
   "metadata": {},
   "outputs": [
    {
     "name": "stdout",
     "output_type": "stream",
     "text": [
      "State (0, 0) -> Q-values: [ 9.259881  -0.6334461  9.258819   9.362408 ]\n",
      "State (1, 1) -> Q-values: [ 9.369141   9.542203  -0.5945864  9.493502 ]\n",
      "State (2, 2) -> Q-values: [9.387017 9.710793 9.553543 9.526387]\n",
      "State (3, 3) -> Q-values: [9.518854 9.916376 9.750566 9.802436]\n"
     ]
    }
   ],
   "source": [
    "sample_states = [(0, 0), (1, 1), (2, 2), (3, 3)]\n",
    "for s in sample_states:\n",
    "    coords = torch.FloatTensor(state_to_coords(s)).unsqueeze(0)\n",
    "    with torch.no_grad():\n",
    "        q_vals = policy_net(coords)\n",
    "    print(f\"State {s} -> Q-values: {q_vals.numpy().flatten()}\")"
   ]
  },
  {
   "cell_type": "code",
   "execution_count": null,
   "id": "684ee7ee-7339-47dd-bf0d-1ddc7e8a9439",
   "metadata": {},
   "outputs": [],
   "source": [
    "# "
   ]
  }
 ],
 "metadata": {
  "kernelspec": {
   "display_name": "Python (moflow)",
   "language": "python",
   "name": "moflow"
  },
  "language_info": {
   "codemirror_mode": {
    "name": "ipython",
    "version": 3
   },
   "file_extension": ".py",
   "mimetype": "text/x-python",
   "name": "python",
   "nbconvert_exporter": "python",
   "pygments_lexer": "ipython3",
   "version": "3.10.16"
  }
 },
 "nbformat": 4,
 "nbformat_minor": 5
}
