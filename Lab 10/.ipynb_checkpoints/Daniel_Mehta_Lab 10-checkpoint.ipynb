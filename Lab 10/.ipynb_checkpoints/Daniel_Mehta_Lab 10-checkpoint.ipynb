{
 "cells": [
  {
   "cell_type": "markdown",
   "id": "49773ae9-87c1-4a4e-9096-982f474075c7",
   "metadata": {},
   "source": [
    "# Lab 10\n",
    "### Daniel Mehta"
   ]
  },
  {
   "cell_type": "code",
   "execution_count": 8,
   "id": "8d493bef-3298-4c91-85ca-5bdd19421e8e",
   "metadata": {},
   "outputs": [],
   "source": [
    "#imports\n",
    "import numpy as np\n",
    "import random"
   ]
  },
  {
   "cell_type": "markdown",
   "id": "5cafd836-24b4-44a8-815c-b9605149fea4",
   "metadata": {},
   "source": [
    "---\n",
    "\n",
    "## Setting Up the Environment"
   ]
  },
  {
   "cell_type": "markdown",
   "id": "d818a38d-b5e1-4737-b1c0-8dd18141d3b4",
   "metadata": {},
   "source": [
    "### Grid Environment"
   ]
  },
  {
   "cell_type": "code",
   "execution_count": 12,
   "id": "d19147f2-6fd6-4036-a043-b0f7f6324506",
   "metadata": {},
   "outputs": [],
   "source": [
    "# grid parameters\n",
    "grid_size = 5\n",
    "start_pos = (0,0)\n",
    "goal_pos = (4,4)\n",
    "\n",
    "# Initializing the grid\n",
    "grid = np.zeros((grid_size,grid_size), dtype=int)"
   ]
  },
  {
   "cell_type": "code",
   "execution_count": 16,
   "id": "23579a77-8480-4a1c-876e-a5bf8f431ce8",
   "metadata": {},
   "outputs": [],
   "source": [
    "# Marking the start and goal\n",
    "grid[start_pos]=1 # 1 is the Start\n",
    "grid[goal_pos]=2 # 2 is the Goal"
   ]
  },
  {
   "cell_type": "code",
   "execution_count": 18,
   "id": "15eeb658-b954-4de1-8045-cc019e6a3de1",
   "metadata": {},
   "outputs": [],
   "source": [
    "# Randomly placeing 3 obstacles (obstacles are being represented by -1)\n",
    "obstacles = set()\n",
    "while len(obstacles) <3:\n",
    "    pos = (random.randint(0,4), random.randint(0,4))\n",
    "    if pos !=start_pos and pos != goal_pos and pos not in obstacles:\n",
    "        obstacles.add(pos)\n",
    "        grid[pos] = -1  # Obstacle"
   ]
  },
  {
   "cell_type": "code",
   "execution_count": 20,
   "id": "7677e2c8-c827-4b00-ad76-ded021f1e8e8",
   "metadata": {},
   "outputs": [
    {
     "name": "stdout",
     "output_type": "stream",
     "text": [
      "Grid:\n",
      " [[ 1  0  0  0  0]\n",
      " [ 0  0  0 -1  0]\n",
      " [-1  0  0  0  0]\n",
      " [ 0  0  0  0 -1]\n",
      " [ 0  0  0  0  2]]\n"
     ]
    }
   ],
   "source": [
    "print(\"Grid:\\n\", grid)"
   ]
  },
  {
   "cell_type": "code",
   "execution_count": null,
   "id": "f0ae1b1b-6817-4727-9ebb-0a07dd827dbd",
   "metadata": {},
   "outputs": [],
   "source": []
  }
 ],
 "metadata": {
  "kernelspec": {
   "display_name": "Python (moflow)",
   "language": "python",
   "name": "moflow"
  },
  "language_info": {
   "codemirror_mode": {
    "name": "ipython",
    "version": 3
   },
   "file_extension": ".py",
   "mimetype": "text/x-python",
   "name": "python",
   "nbconvert_exporter": "python",
   "pygments_lexer": "ipython3",
   "version": "3.10.16"
  }
 },
 "nbformat": 4,
 "nbformat_minor": 5
}
